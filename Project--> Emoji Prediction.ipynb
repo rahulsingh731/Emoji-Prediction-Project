{
 "cells": [
  {
   "cell_type": "markdown",
   "metadata": {},
   "source": [
    "# Working with Emoji Package"
   ]
  },
  {
   "cell_type": "code",
   "execution_count": null,
   "metadata": {},
   "outputs": [],
   "source": [
    "# !pip install emoji"
   ]
  },
  {
   "cell_type": "code",
   "execution_count": null,
   "metadata": {},
   "outputs": [],
   "source": [
    "import emoji\n",
    "emoji.emojize(\":fire:\")"
   ]
  },
  {
   "cell_type": "code",
   "execution_count": null,
   "metadata": {},
   "outputs": [],
   "source": [
    "emoji.EMOJI_ALIAS_UNICODE"
   ]
  },
  {
   "cell_type": "code",
   "execution_count": null,
   "metadata": {},
   "outputs": [],
   "source": [
    "emoji_dict={\n",
    "    '0':':smiling_face_with_heart-eyes:',\n",
    "    '1':':baseball:',\n",
    "    '2':':grinning_face_with_big_eyes:',\n",
    "    '3':':face_with_steam_from_nose:',\n",
    "    '4':':fork_and_knife:',\n",
    "    '5':':nerd_face:',\n",
    "    '6':':smiling_face_with_sunglasses:',\n",
    "    '7':':beating_heart:',\n",
    "    '8':':persevering_face:',\n",
    "    '9':':flushed_face:'\n",
    "}"
   ]
  },
  {
   "cell_type": "markdown",
   "metadata": {},
   "source": [
    "# Preprocess Data"
   ]
  },
  {
   "cell_type": "code",
   "execution_count": null,
   "metadata": {},
   "outputs": [],
   "source": [
    "import pandas as pd\n",
    "\n",
    "train = pd.read_csv('train_dataset.csv')\n",
    "test = pd.read_csv('test_emoji.csv')"
   ]
  },
  {
   "cell_type": "code",
   "execution_count": null,
   "metadata": {},
   "outputs": [],
   "source": [
    "train.head()"
   ]
  },
  {
   "cell_type": "code",
   "execution_count": null,
   "metadata": {},
   "outputs": [],
   "source": [
    "test.head()"
   ]
  },
  {
   "cell_type": "code",
   "execution_count": null,
   "metadata": {},
   "outputs": [],
   "source": [
    "X_train = train['0']\n",
    "Y_train = train['1']\n",
    "\n",
    "X_test = test['0']\n",
    "Y_test = test['1']"
   ]
  },
  {
   "cell_type": "code",
   "execution_count": null,
   "metadata": {
    "scrolled": true
   },
   "outputs": [],
   "source": [
    "#One_hot_encoded Y_Train is mandatory ,so...\n",
    "from keras.utils import to_categorical\n",
    "Y_train =to_categorical(Y_train,num_classes=10)\n",
    "Y_test=to_categorical(Y_test,num_classes=10)\n",
    "print(Y_train[0].shape)\n",
    "print(Y_train[0])"
   ]
  },
  {
   "cell_type": "code",
   "execution_count": null,
   "metadata": {},
   "outputs": [],
   "source": [
    "# for i in range(150):\n",
    "#     print(X_train[i],emoji.emojize(emoji_dict[str(Y_train[i])]))"
   ]
  },
  {
   "cell_type": "markdown",
   "metadata": {},
   "source": [
    "# Glove Vector using 6B.50D.txt"
   ]
  },
  {
   "cell_type": "code",
   "execution_count": null,
   "metadata": {},
   "outputs": [],
   "source": [
    "f=open('glove.6B.50d.txt',encoding='utf-8')"
   ]
  },
  {
   "cell_type": "code",
   "execution_count": null,
   "metadata": {},
   "outputs": [],
   "source": [
    "import numpy as np\n",
    "embedding_index={}\n",
    "\n",
    "for lines in f:\n",
    "    values=lines.split()\n",
    "    word=values[0]\n",
    "    coeff=np.asarray(values[1:],dtype='float')\n",
    "    embedding_index[word]=coeff\n",
    "f.close()"
   ]
  },
  {
   "cell_type": "code",
   "execution_count": null,
   "metadata": {},
   "outputs": [],
   "source": [
    "embedding_index['i']"
   ]
  },
  {
   "cell_type": "markdown",
   "metadata": {},
   "source": [
    "# Glove Embeddings (Convert Sentences into Vectors)\n"
   ]
  },
  {
   "cell_type": "code",
   "execution_count": null,
   "metadata": {},
   "outputs": [],
   "source": [
    "def embedding_output(X):\n",
    "    maxlen=10\n",
    "    emb_dim=50#given embedding index has shape of 50\n",
    "    embedding_out = np.zeros((X.shape[0],maxlen,emb_dim))\n",
    "    for ix in range(X.shape[0]):\n",
    "        X[ix]=X[ix].split()\n",
    "        for ij in range(len(X[ix])):\n",
    "            #go to every word in the current(ix) sentence\n",
    "            try:\n",
    "                embedding_out[ix][ij]=embedding_index[X[ix][ij].lower()]\n",
    "            except:\n",
    "                embedding_out[ix][ij]=np.zeros((50,))\n",
    "    return embedding_out\n",
    "embedding_matrix_train =embedding_output(X_train)\n",
    "embedding_matrix_test = embedding_output(X_test)"
   ]
  },
  {
   "cell_type": "code",
   "execution_count": null,
   "metadata": {},
   "outputs": [],
   "source": [
    "print(X_train[0])\n",
    "print(len(X_train[0]))"
   ]
  },
  {
   "cell_type": "code",
   "execution_count": null,
   "metadata": {},
   "outputs": [],
   "source": [
    "embedding_matrix_train.shape"
   ]
  },
  {
   "cell_type": "code",
   "execution_count": null,
   "metadata": {},
   "outputs": [],
   "source": [
    "embedding_matrix_test.shape"
   ]
  },
  {
   "cell_type": "markdown",
   "metadata": {},
   "source": [
    "# **Make a RNN / LSTM MODEL**"
   ]
  },
  {
   "cell_type": "code",
   "execution_count": null,
   "metadata": {},
   "outputs": [],
   "source": [
    "from keras.models import Sequential\n",
    "from keras.layers import *"
   ]
  },
  {
   "cell_type": "code",
   "execution_count": null,
   "metadata": {},
   "outputs": [],
   "source": [
    "model=Sequential()\n",
    "model.add(LSTM(64,input_shape=(10,50),return_sequences=True))\n",
    "model.add(Dropout(0.5))\n",
    "model.add(LSTM(64,return_sequences=False))\n",
    "model.add(Dropout(0.5))\n",
    "model.add(Dense(10))\n",
    "model.add(Activation('softmax'))\n",
    "model.compile(loss='categorical_crossentropy',optimizer='adam',metrics=['accuracy'])\n",
    "model.summary()"
   ]
  },
  {
   "cell_type": "code",
   "execution_count": null,
   "metadata": {},
   "outputs": [],
   "source": [
    "from keras.callbacks import EarlyStopping,ModelCheckpoint\n",
    "checkpoint =ModelCheckpoint('best_model.h5',monitor='val_loss',verbose=True,save_best_only=True)\n",
    "earlystop = EarlyStopping(monitor='val_acc',patience=10)\n",
    "hist =model.fit(embedding_matrix_train,Y_train,epochs=200,batch_size=64,shuffle=True,validation_split=0.3,callbacks=[checkpoint,earlystop])"
   ]
  },
  {
   "cell_type": "code",
   "execution_count": null,
   "metadata": {},
   "outputs": [],
   "source": [
    "model.load_weights('best_model.h5')\n",
    "model.evaluate(embedding_matrix_test,Y_test)"
   ]
  },
  {
   "cell_type": "code",
   "execution_count": null,
   "metadata": {},
   "outputs": [],
   "source": [
    "pred=model.predict_classes(embedding_matrix_test)\n",
    "pred"
   ]
  },
  {
   "cell_type": "code",
   "execution_count": null,
   "metadata": {},
   "outputs": [],
   "source": [
    "for i in range(30):\n",
    "    print(' '.join(X_test[i]))\n",
    "    print(emoji.emojize(emoji_dict[str(np.argmax(Y_test[i]))]))\n",
    "    print(emoji.emojize(emoji_dict[str(pred[i])]))"
   ]
  },
  {
   "cell_type": "code",
   "execution_count": null,
   "metadata": {},
   "outputs": [],
   "source": []
  },
  {
   "cell_type": "code",
   "execution_count": null,
   "metadata": {},
   "outputs": [],
   "source": []
  }
 ],
 "metadata": {
  "kernelspec": {
   "display_name": "Python 3",
   "language": "python",
   "name": "python3"
  },
  "language_info": {
   "codemirror_mode": {
    "name": "ipython",
    "version": 3
   },
   "file_extension": ".py",
   "mimetype": "text/x-python",
   "name": "python",
   "nbconvert_exporter": "python",
   "pygments_lexer": "ipython3",
   "version": "3.7.4"
  }
 },
 "nbformat": 4,
 "nbformat_minor": 2
}
